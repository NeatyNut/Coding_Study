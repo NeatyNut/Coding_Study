{
 "cells": [
  {
   "cell_type": "markdown",
   "metadata": {},
   "source": [
    "- 2024.06.15(토)\n",
    "- 프로그래머스 / 행렬 곱셈(Lv2) / 65%\n",
    "- https://school.programmers.co.kr/learn/courses/30/lessons/12949"
   ]
  },
  {
   "cell_type": "code",
   "execution_count": 3,
   "metadata": {},
   "outputs": [],
   "source": [
    "def solution(arr1, arr2):\n",
    "    answer = []\n",
    "    count_number = len(arr2[0])\n",
    "    \n",
    "    for i in arr1:\n",
    "        part_answer = []\n",
    "        for j in range(count_number):\n",
    "            number = 0\n",
    "            for idx, a in enumerate(i):\n",
    "                number += a * arr2[idx][j]\n",
    "            part_answer.append(number)\n",
    "        answer.append(part_answer)\n",
    "    \n",
    "    return answer"
   ]
  },
  {
   "cell_type": "code",
   "execution_count": 4,
   "metadata": {},
   "outputs": [
    {
     "data": {
      "text/plain": [
       "[[22, 22, 11], [36, 28, 18], [29, 20, 14]]"
      ]
     },
     "execution_count": 4,
     "metadata": {},
     "output_type": "execute_result"
    }
   ],
   "source": [
    "arr1 = [[2, 3, 2],\n",
    "        [4, 2, 4],\n",
    "        [3, 1, 4]]\n",
    "arr2 = [[5, 4, 3],\n",
    "        [2, 4, 1],\n",
    "        [3, 1, 1]]\n",
    "\n",
    "solution(arr1, arr2)"
   ]
  },
  {
   "cell_type": "markdown",
   "metadata": {},
   "source": [
    "- 2024.06.16(일)\n",
    "- 프로그래머스 / 올바른 괄호(Lv2) / 78%\n",
    "- https://school.programmers.co.kr/learn/courses/30/lessons/12909"
   ]
  },
  {
   "cell_type": "code",
   "execution_count": 1,
   "metadata": {},
   "outputs": [],
   "source": [
    "def solution(s):\n",
    "    if s.count(\"(\") != s.count(\")\"):\n",
    "        return False\n",
    "\n",
    "    answer = 0\n",
    "    \n",
    "    for i in s:\n",
    "        if i == \"(\":\n",
    "            answer += 1\n",
    "        else :\n",
    "            answer -= 1\n",
    "        \n",
    "        if answer < 0:\n",
    "            return False\n",
    "        \n",
    "    return True"
   ]
  },
  {
   "cell_type": "code",
   "execution_count": 2,
   "metadata": {},
   "outputs": [
    {
     "name": "stdout",
     "output_type": "stream",
     "text": [
      "(())()  :  True\n",
      "(()(  :  False\n"
     ]
    }
   ],
   "source": [
    "print(\"(())()\", \" : \", solution(\"(())()\"))\n",
    "print(\"(()(\", \" : \", solution(\"(()(\"))"
   ]
  },
  {
   "cell_type": "markdown",
   "metadata": {},
   "source": [
    "- 2024.06.17(월)\n",
    "- 프로그래머스 / 귤 고르기(Lv2) / 69%\n",
    "- https://school.programmers.co.kr/learn/courses/30/lessons/138476"
   ]
  },
  {
   "cell_type": "code",
   "execution_count": 2,
   "metadata": {},
   "outputs": [],
   "source": [
    "from collections import Counter\n",
    "\n",
    "def solution(k, tangerine):\n",
    "    count = Counter(tangerine)\n",
    "    sorted_list = sorted(sorted(tangerine), key=lambda x: count[x], reverse=True)\n",
    "\n",
    "    for _ in range(len(tangerine)-k):\n",
    "        sorted_list.pop()\n",
    "\n",
    "    return len(set(sorted_list))"
   ]
  },
  {
   "cell_type": "code",
   "execution_count": 3,
   "metadata": {},
   "outputs": [
    {
     "data": {
      "text/plain": [
       "2"
      ]
     },
     "execution_count": 3,
     "metadata": {},
     "output_type": "execute_result"
    }
   ],
   "source": [
    "tangerine = [1, 3, 2, 5, 4, 5, 2, 3]\n",
    "k = 4\n",
    "solution(k, tangerine)"
   ]
  },
  {
   "cell_type": "markdown",
   "metadata": {},
   "source": [
    "- 2024.06.18(화)\n",
    "- 프로그래머스 / N개의 최소공배수(Lv2) / 69%\n",
    "- https://school.programmers.co.kr/learn/courses/30/lessons/12953"
   ]
  },
  {
   "cell_type": "code",
   "execution_count": 25,
   "metadata": {},
   "outputs": [],
   "source": [
    "from math import prod\n",
    "\n",
    "def solution(arr):\n",
    "    # 조건 100이하의 숫자 제공 == 100이하의 소수 모음\n",
    "    prime = [2, 3, 5, 7, 11, 13, 17, 19, 23, 29, 31, 37, 41, 43, 47, 53, 59, 61, 67, 71, 73, 79, 83, 89, 97]\n",
    "    answer = []\n",
    "    \n",
    "    # 소인수 분해\n",
    "    for i in arr:\n",
    "        idx = 0\n",
    "        part_answer = []\n",
    "        n = i\n",
    "        while idx < len(prime) and i >= prime[idx]:\n",
    "            if n % prime[idx] == 0:\n",
    "                part_answer.append(prime[idx])\n",
    "                n = n / prime[idx]\n",
    "            else :\n",
    "                idx += 1\n",
    "                \n",
    "        answer.append(part_answer)\n",
    "    \n",
    "    # 공배수들 중복제거\n",
    "    parts = list(set([j for part in answer for j in part]))\n",
    "\n",
    "    # 각 공배수가 가져야하는 제곱근 구하기\n",
    "    howmanys = []\n",
    "    for k in parts:\n",
    "        howmany = []\n",
    "        for part in answer:\n",
    "            howmany.append(part.count(k))\n",
    "        howmanys.append(max(howmany))\n",
    "    \n",
    "    # 소수, 제곱근 매핑\n",
    "    real_answer = list(map(lambda x:x**(howmanys[parts.index(x)]), parts))\n",
    "\n",
    "    return prod(real_answer)"
   ]
  },
  {
   "cell_type": "code",
   "execution_count": 26,
   "metadata": {},
   "outputs": [
    {
     "data": {
      "text/plain": [
       "168"
      ]
     },
     "execution_count": 26,
     "metadata": {},
     "output_type": "execute_result"
    }
   ],
   "source": [
    "solution([2, 6, 8, 14])"
   ]
  },
  {
   "cell_type": "markdown",
   "metadata": {},
   "source": [
    "- 2024.06.19(수)\n",
    "- 프로그래머스 / 나머지가 1이 되는 수 찾기(Lv1) / 87%\n",
    "- https://school.programmers.co.kr/learn/courses/30/lessons/87389"
   ]
  },
  {
   "cell_type": "code",
   "execution_count": 1,
   "metadata": {},
   "outputs": [],
   "source": [
    "def solution(n):\n",
    "    i = 2\n",
    "    \n",
    "    while n % i != 1:\n",
    "        i += 1\n",
    "    \n",
    "    return i"
   ]
  },
  {
   "cell_type": "code",
   "execution_count": 2,
   "metadata": {},
   "outputs": [
    {
     "data": {
      "text/plain": [
       "11"
      ]
     },
     "execution_count": 2,
     "metadata": {},
     "output_type": "execute_result"
    }
   ],
   "source": [
    "solution(12)"
   ]
  },
  {
   "cell_type": "markdown",
   "metadata": {},
   "source": [
    "- 2024.06.20(목)\n",
    "- 프로그래머스 / 구명보트(Lv2) / 70%\n",
    "- https://school.programmers.co.kr/learn/courses/30/lessons/42885"
   ]
  },
  {
   "cell_type": "code",
   "execution_count": 90,
   "metadata": {},
   "outputs": [],
   "source": [
    "def solution(people, limit):\n",
    "    people = sorted(people)\n",
    "\n",
    "    answer = 0\n",
    "    left = 0\n",
    "    right = len(people) - 1\n",
    "\n",
    "    while left <= right:\n",
    "        if people[left] + people[right] <= limit:\n",
    "            left += 1\n",
    "        right -= 1\n",
    "        answer += 1\n",
    "        \n",
    "    return answer"
   ]
  },
  {
   "cell_type": "code",
   "execution_count": 92,
   "metadata": {},
   "outputs": [
    {
     "data": {
      "text/plain": [
       "3"
      ]
     },
     "execution_count": 92,
     "metadata": {},
     "output_type": "execute_result"
    }
   ],
   "source": [
    "people = [70, 80, 50, 50]\n",
    "limit = 100\n",
    "\n",
    "solution(people, limit)"
   ]
  },
  {
   "cell_type": "markdown",
   "metadata": {},
   "source": [
    "- 2024.06.21(금)\n",
    "- 프로그래머스 / 피보나치 수(Lv2) / 73%\n",
    "- https://school.programmers.co.kr/learn/courses/30/lessons/12945"
   ]
  },
  {
   "cell_type": "code",
   "execution_count": 11,
   "metadata": {},
   "outputs": [],
   "source": [
    "def solution(n):\n",
    "    f_n2 = 0\n",
    "    f_n1 = 1\n",
    "    answer = 1\n",
    "\n",
    "    for _ in range(n-2):\n",
    "        f_n2 = f_n1\n",
    "        f_n1 = answer\n",
    "        answer = f_n2 + f_n1\n",
    "    \n",
    "    return answer % 1234567"
   ]
  },
  {
   "cell_type": "code",
   "execution_count": 12,
   "metadata": {},
   "outputs": [
    {
     "data": {
      "text/plain": [
       "8"
      ]
     },
     "execution_count": 12,
     "metadata": {},
     "output_type": "execute_result"
    }
   ],
   "source": [
    "solution(6)"
   ]
  },
  {
   "cell_type": "markdown",
   "metadata": {},
   "source": [
    "- 2024.06.22(토)\n",
    "- 프로그래머스 / 주식가격(Lv2) / 59%\n",
    "- https://school.programmers.co.kr/learn/courses/30/lessons/42584"
   ]
  },
  {
   "cell_type": "code",
   "execution_count": 49,
   "metadata": {},
   "outputs": [],
   "source": [
    "def solution(prices):\n",
    "    n = len(prices)\n",
    "    answer = [0] * n\n",
    "    stack = []\n",
    "    \n",
    "    for i in range(n):\n",
    "        while stack and prices[stack[-1]] > prices[i]:\n",
    "            j = stack.pop()\n",
    "            answer[j] = i - j\n",
    "        stack.append(i)\n",
    "    \n",
    "    while stack:\n",
    "        j = stack.pop()\n",
    "        answer[j] = n - 1 - j\n",
    "    \n",
    "    return answer"
   ]
  },
  {
   "cell_type": "code",
   "execution_count": 50,
   "metadata": {},
   "outputs": [
    {
     "data": {
      "text/plain": [
       "[4, 3, 1, 1, 0]"
      ]
     },
     "execution_count": 50,
     "metadata": {},
     "output_type": "execute_result"
    }
   ],
   "source": [
    "solution([1,2,3,2,3])"
   ]
  },
  {
   "cell_type": "markdown",
   "metadata": {},
   "source": [
    "- 2024.06.23(일)\n",
    "- 프로그래머스 / 평균 구하기(Lv1) / 87%\n",
    "- https://school.programmers.co.kr/learn/courses/30/lessons/12944"
   ]
  },
  {
   "cell_type": "code",
   "execution_count": 1,
   "metadata": {},
   "outputs": [],
   "source": [
    "def solution(arr):\n",
    "    return sum(arr) / len(arr)"
   ]
  },
  {
   "cell_type": "code",
   "execution_count": 2,
   "metadata": {},
   "outputs": [
    {
     "data": {
      "text/plain": [
       "2.5"
      ]
     },
     "execution_count": 2,
     "metadata": {},
     "output_type": "execute_result"
    }
   ],
   "source": [
    "solution([1,2,3,4])"
   ]
  },
  {
   "cell_type": "markdown",
   "metadata": {},
   "source": [
    "- 2024.06.24(월)\n",
    "- 프로그래머스 / 이중우선순위큐(Lv3) / 61%\n",
    "- https://school.programmers.co.kr/learn/courses/30/lessons/42628"
   ]
  },
  {
   "cell_type": "code",
   "execution_count": 15,
   "metadata": {},
   "outputs": [],
   "source": [
    "def solution(operations):\n",
    "    answer = []\n",
    "\n",
    "    for i in operations:\n",
    "        if i[0] == \"D\" and len(answer) > 0:\n",
    "            # 중복 없다 가정\n",
    "            if i[2] == \"1\":\n",
    "                answer.remove(max(answer))\n",
    "            else :\n",
    "                answer.remove(min(answer))\n",
    "        elif i[0] == \"I\" :\n",
    "            # 정수라 가정\n",
    "            answer.append(int(i[2:]))\n",
    "\n",
    "    return [max(answer), min(answer)] if not len(answer) == 0 else [0,0]"
   ]
  },
  {
   "cell_type": "code",
   "execution_count": 16,
   "metadata": {},
   "outputs": [
    {
     "data": {
      "text/plain": [
       "[333, -45]"
      ]
     },
     "execution_count": 16,
     "metadata": {},
     "output_type": "execute_result"
    }
   ],
   "source": [
    "solution([\"I -45\", \"I 653\", \"D 1\", \"I -642\", \"I 45\", \"I 97\", \"D 1\", \"D -1\", \"I 333\"])"
   ]
  },
  {
   "cell_type": "markdown",
   "metadata": {},
   "source": [
    "- 2024.06.25(화)\n",
    "- 프로그래머스 / 야근 지수(Lv3) / 60%\n",
    "- https://school.programmers.co.kr/learn/courses/30/lessons/12927"
   ]
  },
  {
   "cell_type": "code",
   "execution_count": 17,
   "metadata": {},
   "outputs": [],
   "source": [
    "def solution(n, works):\n",
    "    if sum(works) <= n:\n",
    "        return 0\n",
    "    \n",
    "    import heapq\n",
    "    works = list(map(lambda x:-x, works))\n",
    "    heapq.heapify(works)\n",
    "    \n",
    "    for _ in range(n):\n",
    "        max_works = -heapq.heappop(works)\n",
    "        max_works -= 1\n",
    "        heapq.heappush(works, -max_works)\n",
    "        \n",
    "    return sum(map(lambda x:x**2, works))"
   ]
  },
  {
   "cell_type": "code",
   "execution_count": 18,
   "metadata": {},
   "outputs": [
    {
     "data": {
      "text/plain": [
       "6"
      ]
     },
     "execution_count": 18,
     "metadata": {},
     "output_type": "execute_result"
    }
   ],
   "source": [
    "solution(1, [2,1,2])"
   ]
  },
  {
   "cell_type": "markdown",
   "metadata": {},
   "source": [
    "- 2024.06.26(수)\n",
    "- 프로그래머스 / 약수의 합(Lv1) / 87%\n",
    "- https://school.programmers.co.kr/learn/courses/30/lessons/12928"
   ]
  },
  {
   "cell_type": "code",
   "execution_count": 29,
   "metadata": {},
   "outputs": [],
   "source": [
    "def solution(n):\n",
    "    answer = []\n",
    "    \n",
    "    for i in range(1, int(n**(1/2)+1)):\n",
    "        if n % i == 0:\n",
    "            answer.append(i)\n",
    "            answer.append(n//i)\n",
    "    return sum(set(answer))"
   ]
  },
  {
   "cell_type": "code",
   "execution_count": 31,
   "metadata": {},
   "outputs": [
    {
     "data": {
      "text/plain": [
       "21"
      ]
     },
     "execution_count": 31,
     "metadata": {},
     "output_type": "execute_result"
    }
   ],
   "source": [
    "solution(12)"
   ]
  },
  {
   "cell_type": "markdown",
   "metadata": {},
   "source": [
    "- 2024.06.27(목)\n",
    "- 프로그래머스 / 짝지어 제거하기(Lv2) / 73%\n",
    "- https://school.programmers.co.kr/learn/courses/30/lessons/12973"
   ]
  },
  {
   "cell_type": "code",
   "execution_count": 61,
   "metadata": {},
   "outputs": [],
   "source": [
    "def solution(s):\n",
    "    stack = []\n",
    "    for char in s:\n",
    "        if stack and stack[-1] == char:\n",
    "            stack.pop() \n",
    "        else:\n",
    "            stack.append(char)\n",
    "\n",
    "    return int(not stack) "
   ]
  },
  {
   "cell_type": "code",
   "execution_count": 62,
   "metadata": {},
   "outputs": [
    {
     "data": {
      "text/plain": [
       "1"
      ]
     },
     "execution_count": 62,
     "metadata": {},
     "output_type": "execute_result"
    }
   ],
   "source": [
    "solution('baabaa')"
   ]
  },
  {
   "cell_type": "markdown",
   "metadata": {},
   "source": [
    "- 2024.06.28(금)\n",
    "- 프로그래머스 / 달리기 경주(Lv1) / 44%\n",
    "- https://school.programmers.co.kr/learn/courses/30/lessons/178871"
   ]
  },
  {
   "cell_type": "code",
   "execution_count": 13,
   "metadata": {},
   "outputs": [],
   "source": [
    "def solution(players, callings):\n",
    "    player_dic = {}\n",
    "    rank_dic = {}\n",
    "    \n",
    "    for idx, i in enumerate(players):\n",
    "        player_dic[i] = idx\n",
    "        rank_dic[idx] = i\n",
    "    \n",
    "    for i in callings:\n",
    "        # 순위 추출\n",
    "        rank = player_dic[i]\n",
    "        \n",
    "        # 빼앗긴 사람 이름\n",
    "        lost = rank_dic[rank-1]\n",
    "        \n",
    "        rank_dic[rank] = lost\n",
    "        rank_dic[rank-1] = i\n",
    "        \n",
    "        # 순위 변경\n",
    "        player_dic[i] = rank-1\n",
    "        player_dic[lost] = rank\n",
    "        \n",
    "    return list(rank_dic.values())\n"
   ]
  },
  {
   "cell_type": "code",
   "execution_count": 14,
   "metadata": {},
   "outputs": [
    {
     "data": {
      "text/plain": [
       "['mumu', 'kai', 'mine', 'soe', 'poe']"
      ]
     },
     "execution_count": 14,
     "metadata": {},
     "output_type": "execute_result"
    }
   ],
   "source": [
    "solution([\"mumu\", \"soe\", \"poe\", \"kai\", \"mine\"], [\"kai\", \"kai\", \"mine\", \"mine\"])"
   ]
  },
  {
   "cell_type": "markdown",
   "metadata": {},
   "source": [
    "- 2024.06.29(토)\n",
    "- 프로그래머스 / 서울에서 김서방 찾기(Lv1) / 86%\n",
    "- https://school.programmers.co.kr/learn/courses/30/lessons/12919"
   ]
  },
  {
   "cell_type": "code",
   "execution_count": 1,
   "metadata": {},
   "outputs": [],
   "source": [
    "def solution(seoul):\n",
    "    return \"김서방은 \" + str(seoul.index(\"Kim\")) + \"에 있다\""
   ]
  },
  {
   "cell_type": "code",
   "execution_count": 2,
   "metadata": {},
   "outputs": [
    {
     "data": {
      "text/plain": [
       "'김서방은 1에 있다'"
      ]
     },
     "execution_count": 2,
     "metadata": {},
     "output_type": "execute_result"
    }
   ],
   "source": [
    "solution([\"Jane\", \"Kim\"])"
   ]
  },
  {
   "cell_type": "markdown",
   "metadata": {},
   "source": [
    "- 2024.06.30(일)\n",
    "- 프로그래머스 / 문자열 내 p와 y의 개수(Lv1) / 87%\n",
    "- https://school.programmers.co.kr/learn/courses/30/lessons/12916"
   ]
  },
  {
   "cell_type": "code",
   "execution_count": 6,
   "metadata": {},
   "outputs": [],
   "source": [
    "def solution(s):\n",
    "    s = s.upper()\n",
    "    p_count = 0\n",
    "    y_count = 0\n",
    "\n",
    "    for i in s:\n",
    "        if i == 'P':\n",
    "            p_count += 1\n",
    "        \n",
    "        if i == 'Y':\n",
    "            y_count += 1\n",
    "\n",
    "    return p_count == y_count"
   ]
  },
  {
   "cell_type": "code",
   "execution_count": 7,
   "metadata": {},
   "outputs": [
    {
     "data": {
      "text/plain": [
       "True"
      ]
     },
     "execution_count": 7,
     "metadata": {},
     "output_type": "execute_result"
    }
   ],
   "source": [
    "solution('pPoooyY')"
   ]
  },
  {
   "cell_type": "markdown",
   "metadata": {},
   "source": [
    "- 2024.07.01(월)\n",
    "- 프로그래머스 / 짝수와 홀수(Lv1) / 87%\n",
    "- https://school.programmers.co.kr/learn/courses/30/lessons/12937"
   ]
  },
  {
   "cell_type": "code",
   "execution_count": 1,
   "metadata": {},
   "outputs": [],
   "source": [
    "def solution(num):\n",
    "    return \"Odd\" if num % 2 else \"Even\""
   ]
  },
  {
   "cell_type": "code",
   "execution_count": 2,
   "metadata": {},
   "outputs": [
    {
     "data": {
      "text/plain": [
       "'Odd'"
      ]
     },
     "execution_count": 2,
     "metadata": {},
     "output_type": "execute_result"
    }
   ],
   "source": [
    "solution(3)"
   ]
  },
  {
   "cell_type": "markdown",
   "metadata": {},
   "source": [
    "- 2024.07.02(화)\n",
    "- 프로그래머스 / 자릿수 더하기(Lv1) / 87%\n",
    "- https://school.programmers.co.kr/learn/courses/30/lessons/12931"
   ]
  },
  {
   "cell_type": "code",
   "execution_count": 3,
   "metadata": {},
   "outputs": [],
   "source": [
    "def solution(n):\n",
    "    answer = 0\n",
    "    \n",
    "    for i in str(n):\n",
    "        answer += int(i)\n",
    "\n",
    "    return answer"
   ]
  },
  {
   "cell_type": "code",
   "execution_count": 4,
   "metadata": {},
   "outputs": [
    {
     "data": {
      "text/plain": [
       "9"
      ]
     },
     "execution_count": 4,
     "metadata": {},
     "output_type": "execute_result"
    }
   ],
   "source": [
    "solution(135)"
   ]
  },
  {
   "cell_type": "markdown",
   "metadata": {},
   "source": [
    "- 2024.07.03(수)\n",
    "- 프로그래머스 / 자릿수 더하기(Lv1) / 87%\n",
    "- https://school.programmers.co.kr/learn/courses/30/lessons/12931"
   ]
  },
  {
   "cell_type": "code",
   "execution_count": 6,
   "metadata": {},
   "outputs": [],
   "source": [
    "def solution(x, n):\n",
    "    return [x*i for i in range(1, n+1)]"
   ]
  },
  {
   "cell_type": "code",
   "execution_count": 7,
   "metadata": {},
   "outputs": [
    {
     "data": {
      "text/plain": [
       "[2, 4, 6, 8, 10]"
      ]
     },
     "execution_count": 7,
     "metadata": {},
     "output_type": "execute_result"
    }
   ],
   "source": [
    "solution(2, 5)"
   ]
  },
  {
   "cell_type": "markdown",
   "metadata": {},
   "source": [
    "- 2024.07.04(목)\n",
    "- 프로그래머스 / 문자열을 정수로 바꾸기(Lv1) / 87%\n",
    "- https://school.programmers.co.kr/learn/courses/30/lessons/12925"
   ]
  },
  {
   "cell_type": "code",
   "execution_count": 2,
   "metadata": {},
   "outputs": [],
   "source": [
    "def solution(s):\n",
    "    return int(s)"
   ]
  },
  {
   "cell_type": "code",
   "execution_count": 4,
   "metadata": {},
   "outputs": [
    {
     "data": {
      "text/plain": [
       "-1342"
      ]
     },
     "execution_count": 4,
     "metadata": {},
     "output_type": "execute_result"
    }
   ],
   "source": [
    "solution(\"-1342\")"
   ]
  },
  {
   "cell_type": "code",
   "execution_count": null,
   "metadata": {},
   "outputs": [],
   "source": []
  }
 ],
 "metadata": {
  "kernelspec": {
   "display_name": "base",
   "language": "python",
   "name": "python3"
  },
  "language_info": {
   "codemirror_mode": {
    "name": "ipython",
    "version": 3
   },
   "file_extension": ".py",
   "mimetype": "text/x-python",
   "name": "python",
   "nbconvert_exporter": "python",
   "pygments_lexer": "ipython3",
   "version": "3.11.5"
  }
 },
 "nbformat": 4,
 "nbformat_minor": 2
}
